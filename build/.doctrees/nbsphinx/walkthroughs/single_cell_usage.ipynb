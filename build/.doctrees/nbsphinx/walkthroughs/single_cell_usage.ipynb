{
 "cells": [
  {
   "cell_type": "code",
   "execution_count": null,
   "metadata": {},
   "outputs": [
    {
     "ename": "",
     "evalue": "",
     "output_type": "error",
     "traceback": [
      "\u001b[1;31mRunning cells with 'cellphenoX (Python 3.12.5)' requires the ipykernel package.\n",
      "\u001b[1;31mRun the following command to install 'ipykernel' into the Python environment. \n",
      "\u001b[1;31mCommand: 'conda install -n cellphenoX ipykernel --update-deps --force-reinstall'"
     ]
    }
   ],
   "source": [
    "import pyCellPhenoX\n",
    "\n",
    "import pandas as pd\n",
    "import os"
   ]
  },
  {
   "cell_type": "markdown",
   "metadata": {},
   "source": [
    "# Step 1: Import Data"
   ]
  },
  {
   "cell_type": "code",
   "execution_count": null,
   "metadata": {},
   "outputs": [],
   "source": [
    "# paths to expression data and meta data files\n",
    "expression_file = \"uc_fibroblast_exp.csv\"\n",
    "meta_file = \"uc_fibroblast_meta.csv\"\n",
    "output_path = \"output/\"\n",
    "\n",
    "# check if the output path exists, if not create it\n",
    "if not os.path.exists(output_path):\n",
    "    os.makedirs(output_path)\n",
    "    \n",
    "# read in data\n",
    "expression_mat = pd.read_csv(expression_file, index_col=0)\n",
    "meta = pd.read_csv(meta_file, index_col=0)"
   ]
  },
  {
   "cell_type": "code",
   "execution_count": null,
   "metadata": {},
   "outputs": [],
   "source": [
    "expression_mat.head()"
   ]
  },
  {
   "cell_type": "code",
   "execution_count": null,
   "metadata": {},
   "outputs": [],
   "source": [
    "meta.head()"
   ]
  },
  {
   "cell_type": "markdown",
   "metadata": {},
   "source": [
    "# Step 2: Preprocessing data\n",
    "generate latent dimensions configureninput for CellPhenoX (includes covariants and identify target column)"
   ]
  },
  {
   "cell_type": "code",
   "execution_count": null,
   "metadata": {},
   "outputs": [],
   "source": [
    "## we actually need both the neighborhood abundance matrix (for CellPhenoX) & expression data (for the marker discovery later)"
   ]
  },
  {
   "cell_type": "code",
   "execution_count": null,
   "metadata": {},
   "outputs": [],
   "source": [
    "# get the latent dimensions using NMF\n",
    "latent_features = nonnegativeMatrixFactorization(\n",
    "    expression_mat, numberOfComponents=4, min_k=3, max_k=5\n",
    ")"
   ]
  },
  {
   "cell_type": "code",
   "execution_count": null,
   "metadata": {},
   "outputs": [],
   "source": [
    "# alternatively, use PCA\n",
    "# proportion_var_explained = 0.9\n",
    "# latent_features = principalComponentAnalysis(expression_mat, var=proportion_var_explained)"
   ]
  },
  {
   "cell_type": "code",
   "execution_count": null,
   "metadata": {},
   "outputs": [],
   "source": [
    "# then, set up the input data for CellPhenoX\n",
    "X, y = preprocessing(\n",
    "    latent_features,\n",
    "    meta,\n",
    "    sub_samp=False,\n",
    "    subset_percentage=0.25,\n",
    "    target=\"disease\",\n",
    "    covariates=[],\n",
    ")\n",
    "X.head()"
   ]
  },
  {
   "cell_type": "code",
   "execution_count": null,
   "metadata": {},
   "outputs": [],
   "source": [
    "print(X.shape)\n",
    "print(y.shape)"
   ]
  },
  {
   "cell_type": "markdown",
   "metadata": {},
   "source": [
    "# Step 3: Run CellPhenoX"
   ]
  },
  {
   "cell_type": "code",
   "execution_count": null,
   "metadata": {},
   "outputs": [],
   "source": [
    "# create CellPhenoX object\n",
    "cellpx_obj = CellPhenoX(X, y, CV_repeats=1, outer_num_splits=3, inner_num_splits=2)\n",
    "# and then train the classification model\n",
    "cellpx_obj.model_training_shap_val(outpath=output_path)"
   ]
  },
  {
   "cell_type": "code",
   "execution_count": null,
   "metadata": {},
   "outputs": [],
   "source": [
    "cellpx_obj.shap_df"
   ]
  },
  {
   "cell_type": "markdown",
   "metadata": {},
   "source": [
    "# Step 4: Marker Discovery\n",
    "identify markers correlated with the Interpretable Score"
   ]
  },
  {
   "cell_type": "code",
   "execution_count": null,
   "metadata": {},
   "outputs": [],
   "source": [
    "marker_discovery(cellpx_obj.shap_df, expression_mat)"
   ]
  }
 ],
 "metadata": {
  "kernelspec": {
   "display_name": "cellphenoX",
   "language": "python",
   "name": "python3"
  },
  "language_info": {
   "name": "python",
   "version": "3.12.5"
  }
 },
 "nbformat": 4,
 "nbformat_minor": 2
}
